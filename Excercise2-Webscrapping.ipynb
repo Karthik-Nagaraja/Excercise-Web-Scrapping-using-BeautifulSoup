{
 "cells": [
  {
   "cell_type": "code",
   "execution_count": 1,
   "metadata": {
    "collapsed": true
   },
   "outputs": [],
   "source": [
    "import requests\n",
    "from bs4 import BeautifulSoup\n"
   ]
  },
  {
   "cell_type": "code",
   "execution_count": 3,
   "metadata": {
    "collapsed": true
   },
   "outputs": [],
   "source": [
    "response=requests.get(\"https://pythonprogramming.net/parsememcparseface/\")"
   ]
  },
  {
   "cell_type": "code",
   "execution_count": 5,
   "metadata": {
    "collapsed": false
   },
   "outputs": [],
   "source": [
    "content=response.content\n",
    "#print(content)"
   ]
  },
  {
   "cell_type": "code",
   "execution_count": 9,
   "metadata": {
    "collapsed": false
   },
   "outputs": [],
   "source": [
    "soup=BeautifulSoup(content,\"html.parser\")\n",
    "#print(parser)"
   ]
  },
  {
   "cell_type": "code",
   "execution_count": 10,
   "metadata": {
    "collapsed": false
   },
   "outputs": [
    {
     "name": "stdout",
     "output_type": "stream",
     "text": [
      "<title>Python Programming Tutorials</title>\n",
      "title\n",
      "Python Programming Tutorials\n",
      "Python Programming Tutorials\n"
     ]
    }
   ],
   "source": [
    "print(soup.title)\n",
    "print(soup.title.name)\n",
    "print(soup.title.string)\n",
    "print(soup.title.text)"
   ]
  },
  {
   "cell_type": "code",
   "execution_count": 11,
   "metadata": {
    "collapsed": false
   },
   "outputs": [
    {
     "name": "stdout",
     "output_type": "stream",
     "text": [
      "<p class=\"introduction\">Oh, hello! This is a <span style=\"font-size:115%\">wonderful</span> page meant to let you practice web scraping. This page was originally created to help people work with the <a href=\"https://www.crummy.com/software/BeautifulSoup/bs4/doc/\" target=\"blank\"><strong>Beautiful Soup 4</strong></a> library.</p>\n"
     ]
    }
   ],
   "source": [
    "print(soup.p) # prints the first paragraph"
   ]
  },
  {
   "cell_type": "code",
   "execution_count": 12,
   "metadata": {
    "collapsed": false
   },
   "outputs": [
    {
     "name": "stdout",
     "output_type": "stream",
     "text": [
      "[<p class=\"introduction\">Oh, hello! This is a <span style=\"font-size:115%\">wonderful</span> page meant to let you practice web scraping. This page was originally created to help people work with the <a href=\"https://www.crummy.com/software/BeautifulSoup/bs4/doc/\" target=\"blank\"><strong>Beautiful Soup 4</strong></a> library.</p>, <p>The following table gives some general information for the following <code>programming languages</code>:</p>, <p>I think it's clear that, on a scale of 1-10, python is:</p>, <p>Javascript (dynamic data) test:</p>, <p class=\"jstest\" id=\"yesnojs\">y u bad tho?</p>, <p>Wh\\u1d90t h\\u03b1pp\\xe9ns now\\xbf</p>, <p><a href=\"/sitemap.xml\" target=\"blank\"><strong>sitemap</strong></a></p>, <p>\\n<a class=\"btn btn-flat white modal-close\" href=\"#\">Cancel</a> \\xa0\\n\\t\\t\\t\\t\\t\\t<a class=\"waves-effect waves-blue blue btn btn-flat modal-action modal-close\" href=\"#\">Login</a>\\n</p>, <p>\\n<a class=\"btn btn-flat white modal-close\" href=\"#\">Cancel</a> \\xa0\\n\\t\\t\\t\\t\\t\\t\\t\\t<button class=\"btn\" type=\"submit\" value=\"Register\">Sign Up</button>\\n</p>, <p class=\"grey-text text-lighten-4\">Contact: Harrison@pythonprogramming.net.</p>, <p class=\"grey-text right\" style=\"padding-right:10px\">Programming is a superpower.</p>]\n"
     ]
    }
   ],
   "source": [
    "print(soup.find_all('p')) # prints all the paragraphs"
   ]
  },
  {
   "cell_type": "code",
   "execution_count": 13,
   "metadata": {
    "collapsed": false
   },
   "outputs": [
    {
     "name": "stdout",
     "output_type": "stream",
     "text": [
      "<p class=\"introduction\">Oh, hello! This is a <span style=\"font-size:115%\">wonderful</span> page meant to let you practice web scraping. This page was originally created to help people work with the <a href=\"https://www.crummy.com/software/BeautifulSoup/bs4/doc/\" target=\"blank\"><strong>Beautiful Soup 4</strong></a> library.</p>\n",
      "<p>The following table gives some general information for the following <code>programming languages</code>:</p>\n",
      "<p>I think it's clear that, on a scale of 1-10, python is:</p>\n",
      "<p>Javascript (dynamic data) test:</p>\n",
      "<p class=\"jstest\" id=\"yesnojs\">y u bad tho?</p>\n",
      "<p>Whᶐt hαppéns now¿</p>\n",
      "<p><a href=\"/sitemap.xml\" target=\"blank\"><strong>sitemap</strong></a></p>\n",
      "<p>\n",
      "<a class=\"btn btn-flat white modal-close\" href=\"#\">Cancel</a>  \n",
      "\t\t\t\t\t\t<a class=\"waves-effect waves-blue blue btn btn-flat modal-action modal-close\" href=\"#\">Login</a>\n",
      "</p>\n",
      "<p>\n",
      "<a class=\"btn btn-flat white modal-close\" href=\"#\">Cancel</a>  \n",
      "\t\t\t\t\t\t\t\t<button class=\"btn\" type=\"submit\" value=\"Register\">Sign Up</button>\n",
      "</p>\n",
      "<p class=\"grey-text text-lighten-4\">Contact: Harrison@pythonprogramming.net.</p>\n",
      "<p class=\"grey-text right\" style=\"padding-right:10px\">Programming is a superpower.</p>\n"
     ]
    }
   ],
   "source": [
    "#prints each paragraph seperately\n",
    "for paragraph in soup.find_all('p'):\n",
    "    print(paragraph)"
   ]
  },
  {
   "cell_type": "code",
   "execution_count": 14,
   "metadata": {
    "collapsed": false
   },
   "outputs": [
    {
     "name": "stdout",
     "output_type": "stream",
     "text": [
      "None\n",
      "None\n",
      "I think it's clear that, on a scale of 1-10, python is:\n",
      "Javascript (dynamic data) test:\n",
      "y u bad tho?\n",
      "Whᶐt hαppéns now¿\n",
      "sitemap\n",
      "None\n",
      "None\n",
      "Contact: Harrison@pythonprogramming.net.\n",
      "Programming is a superpower.\n"
     ]
    }
   ],
   "source": [
    "#prints each paragraphs but without tags -- returns only navigable string ..for others returns None as below\n",
    "for paragraph in soup.find_all('p'):\n",
    "    print(paragraph.string)"
   ]
  },
  {
   "cell_type": "code",
   "execution_count": 15,
   "metadata": {
    "collapsed": false
   },
   "outputs": [
    {
     "name": "stdout",
     "output_type": "stream",
     "text": [
      "Oh, hello! This is a wonderful page meant to let you practice web scraping. This page was originally created to help people work with the Beautiful Soup 4 library.\n",
      "The following table gives some general information for the following programming languages:\n",
      "I think it's clear that, on a scale of 1-10, python is:\n",
      "Javascript (dynamic data) test:\n",
      "y u bad tho?\n",
      "Whᶐt hαppéns now¿\n",
      "sitemap\n",
      "\n",
      "Cancel  \n",
      "\t\t\t\t\t\tLogin\n",
      "\n",
      "\n",
      "Cancel  \n",
      "\t\t\t\t\t\t\t\tSign Up\n",
      "\n",
      "Contact: Harrison@pythonprogramming.net.\n",
      "Programming is a superpower.\n"
     ]
    }
   ],
   "source": [
    "#prints each paragraphs but without tags and returns everything\n",
    "for paragraph in soup.find_all('p'):\n",
    "    print(paragraph.text)"
   ]
  },
  {
   "cell_type": "code",
   "execution_count": 16,
   "metadata": {
    "collapsed": false
   },
   "outputs": [
    {
     "name": "stdout",
     "output_type": "stream",
     "text": [
      "/\n",
      "#\n",
      "/\n",
      "/+=1/\n",
      "/store/python-hoodie/\n",
      "/community/\n",
      "/login/\n",
      "/register/\n",
      "/\n",
      "/+=1/\n",
      "/store/python-hoodie/\n",
      "/community/\n",
      "/login/\n",
      "/register/\n",
      "https://www.crummy.com/software/BeautifulSoup/bs4/doc/\n",
      "/sitemap.xml\n",
      "#\n",
      "#\n",
      "#\n",
      "/support-donate/\n",
      "/consulting/\n",
      "https://www.facebook.com/pythonprogramming.net/\n",
      "https://twitter.com/sentdex\n",
      "https://plus.google.com/+sentdex\n",
      "/about/tos/\n",
      "/about/privacy-policy/\n",
      "https://xkcd.com/353/\n"
     ]
    }
   ],
   "source": [
    "#print all the links in the page\n",
    "for url in soup.find_all('a'):\n",
    "    print (url.get('href'))"
   ]
  },
  {
   "cell_type": "code",
   "execution_count": 17,
   "metadata": {
    "collapsed": false
   },
   "outputs": [
    {
     "name": "stdout",
     "output_type": "stream",
     "text": [
      "/\n",
      "#\n",
      "/\n",
      "/+=1/\n",
      "/store/python-hoodie/\n",
      "/community/\n",
      "/login/\n",
      "/register/\n",
      "/\n",
      "/+=1/\n",
      "/store/python-hoodie/\n",
      "/community/\n",
      "/login/\n",
      "/register/\n"
     ]
    }
   ],
   "source": [
    "#All the links in the nav bar\n",
    "nav=soup.nav\n",
    "for url in nav.find_all('a'):\n",
    "    print(url.get('href'))"
   ]
  },
  {
   "cell_type": "code",
   "execution_count": 18,
   "metadata": {
    "collapsed": false
   },
   "outputs": [
    {
     "name": "stdout",
     "output_type": "stream",
     "text": [
      "Oh, hello! This is a wonderful page meant to let you practice web scraping. This page was originally created to help people work with the Beautiful Soup 4 library.\n",
      "The following table gives some general information for the following programming languages:\n",
      "I think it's clear that, on a scale of 1-10, python is:\n",
      "Javascript (dynamic data) test:\n",
      "y u bad tho?\n",
      "Whᶐt hαppéns now¿\n",
      "sitemap\n"
     ]
    }
   ],
   "source": [
    "#extracts text from body alone\n",
    "body=soup.body\n",
    "for paragraph in body.find_all('p'):\n",
    "    print(paragraph.text)"
   ]
  },
  {
   "cell_type": "code",
   "execution_count": 19,
   "metadata": {
    "collapsed": false
   },
   "outputs": [
    {
     "name": "stdout",
     "output_type": "stream",
     "text": [
      "\n",
      "Oh, hello! This is a wonderful page meant to let you practice web scraping. This page was originally created to help people work with the Beautiful Soup 4 library.\n",
      "The following table gives some general information for the following programming languages:\n",
      "\n",
      "Python\n",
      "Pascal\n",
      "Lisp\n",
      "D#\n",
      "Cobol\n",
      "Fortran\n",
      "Haskell\n",
      "\n",
      "\n",
      "\n",
      "Program Name\n",
      "Internet Points\n",
      "Kittens?\n",
      "\n",
      "\n",
      "Python\n",
      "932914021\n",
      "Definitely\n",
      "\n",
      "\n",
      "Pascal\n",
      "532\n",
      "Unlikely\n",
      "\n",
      "\n",
      "Lisp\n",
      "1522\n",
      "Uncertain\n",
      "\n",
      "\n",
      "D#\n",
      "12\n",
      "Possibly\n",
      "\n",
      "\n",
      "Cobol\n",
      "3\n",
      "No.\n",
      "\n",
      "\n",
      "Fortran\n",
      "52124\n",
      "Yes.\n",
      "\n",
      "\n",
      "Haskell\n",
      "24\n",
      "lol.\n",
      "\n",
      "\n",
      "I think it's clear that, on a scale of 1-10, python is:\n",
      "\n",
      "\n",
      "\n",
      "\n",
      "\n",
      "\n",
      "Javascript (dynamic data) test:\n",
      "y u bad tho?\n",
      "\n",
      "     document.getElementById('yesnojs').innerHTML = 'Look at you shinin!';\n",
      "  \n",
      "\n",
      "Beautiful is better than ugly.\n",
      "Explicit is better than implicit.\n",
      "Simple is better than complex.\n",
      "Complex is better than complicated.\n",
      "Flat is better than nested.\n",
      "Sparse is better than dense.\n",
      "Readability counts.\n",
      "Special cases aren't special enough to break the rules.\n",
      "Although practicality beats purity.\n",
      "Errors should never pass silently.\n",
      "Unless explicitly silenced.\n",
      "In the face of ambiguity, refuse the temptation to guess.\n",
      "There should be one-- and preferably only one --obvious way to do it.\n",
      "Although that way may not be obvious at first unless you're Dutch.\n",
      "Now is better than never.\n",
      "Although never is often better than *right* now.\n",
      "If the implementation is hard to explain, it's a bad idea.\n",
      "If the implementation is easy to explain, it may be a good idea.\n",
      "Namespaces are one honking great idea -- let's do more of those!\n",
      "Whᶐt hαppéns now¿\n",
      "sitemap\n",
      "\n"
     ]
    }
   ],
   "source": [
    "for div in soup.find_all('div',class_='body'):\n",
    "    print(div.text)"
   ]
  },
  {
   "cell_type": "code",
   "execution_count": 20,
   "metadata": {
    "collapsed": false
   },
   "outputs": [
    {
     "name": "stdout",
     "output_type": "stream",
     "text": [
      "<table style=\"width:100%\">\n",
      "<tr>\n",
      "<th>Program Name</th>\n",
      "<th>Internet Points</th>\n",
      "<th>Kittens?</th>\n",
      "</tr>\n",
      "<tr>\n",
      "<td>Python</td>\n",
      "<td>932914021</td>\n",
      "<td>Definitely</td>\n",
      "</tr>\n",
      "<tr>\n",
      "<td>Pascal</td>\n",
      "<td>532</td>\n",
      "<td>Unlikely</td>\n",
      "</tr>\n",
      "<tr>\n",
      "<td>Lisp</td>\n",
      "<td>1522</td>\n",
      "<td>Uncertain</td>\n",
      "</tr>\n",
      "<tr>\n",
      "<td>D#</td>\n",
      "<td>12</td>\n",
      "<td>Possibly</td>\n",
      "</tr>\n",
      "<tr>\n",
      "<td>Cobol</td>\n",
      "<td>3</td>\n",
      "<td>No.</td>\n",
      "</tr>\n",
      "<tr>\n",
      "<td>Fortran</td>\n",
      "<td>52124</td>\n",
      "<td>Yes.</td>\n",
      "</tr>\n",
      "<tr>\n",
      "<td>Haskell</td>\n",
      "<td>24</td>\n",
      "<td>lol.</td>\n",
      "</tr>\n",
      "</table>\n"
     ]
    }
   ],
   "source": [
    "#pull the table data information\n",
    "table=soup.table # table =soup.find_all('table')\n",
    "print(table)"
   ]
  },
  {
   "cell_type": "code",
   "execution_count": 21,
   "metadata": {
    "collapsed": false
   },
   "outputs": [
    {
     "name": "stdout",
     "output_type": "stream",
     "text": [
      "[]\n",
      "[u'Python', u'932914021', u'Definitely']\n",
      "[u'Pascal', u'532', u'Unlikely']\n",
      "[u'Lisp', u'1522', u'Uncertain']\n",
      "[u'D#', u'12', u'Possibly']\n",
      "[u'Cobol', u'3', u'No.']\n",
      "[u'Fortran', u'52124', u'Yes.']\n",
      "[u'Haskell', u'24', u'lol.']\n"
     ]
    }
   ],
   "source": [
    "#print table rows\n",
    "table=soup.table\n",
    "table_rows = table.find_all('tr')\n",
    "\n",
    "for tr in table_rows:\n",
    "    td=tr.find_all('td')\n",
    "    row=[i.text for i in td]\n",
    "    print(row)\n",
    "    "
   ]
  }
 ],
 "metadata": {
  "anaconda-cloud": {},
  "kernelspec": {
   "display_name": "Python [default]",
   "language": "python",
   "name": "python2"
  },
  "language_info": {
   "codemirror_mode": {
    "name": "ipython",
    "version": 2
   },
   "file_extension": ".py",
   "mimetype": "text/x-python",
   "name": "python",
   "nbconvert_exporter": "python",
   "pygments_lexer": "ipython2",
   "version": "2.7.12"
  }
 },
 "nbformat": 4,
 "nbformat_minor": 1
}
