{
 "cells": [
  {
   "cell_type": "markdown",
   "metadata": {},
   "source": [
    "A lot of data aren't accessible through data sets or APIs. They may exist on the Internet as Web pages, though. One way to access the data without waiting for the provider to create an API is to use a technique called Web scraping.\n",
    "Web scraping allows us to load a Web page into Python and extract the information we want. We can then work with the data using standard analysis tools like pandas and numpy.\n",
    "Before we can do Web scraping, we need to understand the structure of the Web page we're working with, then find a way to extract parts of that structure in a sensible way.\n",
    "We'll use the requests library heavily as we learn about Web scraping. This library enables us to download a Web page. We'll also use the beautifulsoup library to extract the relevant parts of the Web page."
   ]
  },
  {
   "cell_type": "markdown",
   "metadata": {},
   "source": [
    "Web Page Structure\n",
    "\n",
    "Web pages use HyperText Markup Language (HTML). HTML isn't a programming language like Python. It's a markup language with its own syntax and rules. When a Web browser like Chrome or Firefox downloads a Web page, it reads the HTML to determine how to render it and display it to you.\n",
    "\n",
    "Here's the HTML for a very simple Web page:\n",
    "<html>\n",
    "    <head>\n",
    "        <title>A simple page </title>\n",
    "    </head>\n",
    "    <body>\n",
    "        <p>Here is simple content for the page.</p>\n",
    "    </body>\n",
    "</html> \n",
    "Anything in between the opening and closing of a tag is the content of that tag. We can nest tags to create complex formatting rules. Here's an example:\n",
    "The b tag bolds the content inside it, and the p tag creates a new paragraph. The HTML above will display as a bold paragraph because the b tag is inside the p tag. In other words, the b tag is nested within the p tag.\n",
    "\n",
    "HTML documents contain a few major sections. The head section contains information that's useful to the Web browser that's rendering the page; the user doesn't see it. The body section contains the bulk of the content the user interacts with on the page.\n",
    "\n",
    "Different tags have different purposes. For example, the title tag tells the Web browser what page title to display at the top of your tab. The p tag indicates that the content inside it is a single paragraph"
   ]
  },
  {
   "cell_type": "code",
   "execution_count": 1,
   "metadata": {
    "collapsed": false
   },
   "outputs": [
    {
     "name": "stdout",
     "output_type": "stream",
     "text": [
      "<!DOCTYPE html>\n",
      "<html>\n",
      "    <head>\n",
      "        <title>A simple example page</title>\n",
      "    </head>\n",
      "    <body>\n",
      "        <p>Here is some simple content for this page.</p>\n",
      "    </body>\n",
      "</html>\n"
     ]
    }
   ],
   "source": [
    "import requests\n",
    "response=requests.get(\"http://dataquestio.github.io/web-scraping-pages/simple.html\")\n",
    "content=response.content\n",
    "print(content)"
   ]
  },
  {
   "cell_type": "markdown",
   "metadata": {},
   "source": [
    "Retrieving Elements from a Page\n",
    "\n",
    "Downloading the page is the easy part. Let's say that we want to get the text in the first paragraph. Now we need to parse the page and extract the information we want.\n",
    "We'll use the BeautifulSoup library to parse the Web page with Python. This library allows us to extract tags from an HTML document.\n",
    "We can think of HTML documents as \"trees,\" and the nested tags as \"branches\" (similar to a family tree). BeautifulSoup works the same way.\n",
    "If we look at this page, for example, the root of the \"tree\" is the html tag:\n",
    "<html>\n",
    "    <head>\n",
    "        <title>A simple example page</title>\n",
    "    </head>\n",
    "    <body>\n",
    "        <p>Here is some simple content for this page.</p>\n",
    "    </body>\n",
    "</html>\n",
    "\n",
    "The html tag contains two \"branches,\" head and body. head contains one \"branch,\" title. body contains one branch, p. Drilling down through these multiple branches is one way to parse a Web page.\n",
    "To extract the text inside the p tag, we would first need to get the body element, then the p element, and then finally the text inside the p element."
   ]
  },
  {
   "cell_type": "code",
   "execution_count": 3,
   "metadata": {
    "collapsed": false
   },
   "outputs": [
    {
     "name": "stdout",
     "output_type": "stream",
     "text": [
      "Here is some simple content for this page.\n",
      "A simple example page\n"
     ]
    }
   ],
   "source": [
    "from bs4 import BeautifulSoup\n",
    "\n",
    "# Initialize the parser, and pass in the content we grabbed earlier.\n",
    "parser = BeautifulSoup(content, 'html.parser')\n",
    "# Get the body tag from the document.\n",
    "# Since we passed in the top level of the document to the parser, we need to pick a branch off of the root.\n",
    "# With BeautifulSoup, we can access branches by using tag types as attributes.\n",
    "body = parser.body\n",
    "\n",
    "# Get the p tag from the body.\n",
    "p = body.p\n",
    "\n",
    "# Print the text inside the p tag.\n",
    "# Text is a property that gets the inside text of a tag.\n",
    "print(p.text)\n",
    "#print the title\n",
    "head=parser.head\n",
    "title=head.title\n",
    "title_text=title.text\n",
    "print(title_text)"
   ]
  },
  {
   "cell_type": "markdown",
   "metadata": {},
   "source": [
    "Using Find All\n",
    "\n",
    "While it's nice to use the tag type as a property, it's not always a very robust way to parse a document. It's usually better to be more explicit by using the find_all method. This method will find all occurrences of a tag in the current element, and return a list.\n",
    "If we only want the first occurrence of an item, we'll need to index the list to get it. Aside from this difference, it behaves the same way as passing in the tag type as an attribute."
   ]
  },
  {
   "cell_type": "code",
   "execution_count": 4,
   "metadata": {
    "collapsed": false
   },
   "outputs": [
    {
     "name": "stdout",
     "output_type": "stream",
     "text": [
      "Here is some simple content for this page.\n",
      "A simple example page\n"
     ]
    }
   ],
   "source": [
    "from bs4 import BeautifulSoup\n",
    "parser=BeautifulSoup(content,'html.parser')\n",
    "# Get a list of all occurrences of the body tag in the element.\n",
    "body=parser.find_all(\"body\") # returns only 1 body\n",
    "# Get the paragraph tag.\n",
    "p=body[0].find_all(\"p\") #returns only 1 para\n",
    "# Get the text.\n",
    "para_text=p[0].text\n",
    "print(para_text)\n",
    "\n",
    "#get the title\n",
    "head=parser.find_all(\"head\")\n",
    "title=head[0].find_all(\"title\")\n",
    "title_text=title[0].text\n",
    "print(title_text)"
   ]
  },
  {
   "cell_type": "markdown",
   "metadata": {},
   "source": [
    "Element IDs\n",
    "\n",
    "HTML allows elements to have IDs. Because they are unique, we can use an ID to refer to a specific element.\n",
    "Here's an example page:\n",
    "<html>\n",
    "    <head>\n",
    "        <title>A simple example page</title>\n",
    "    </head>\n",
    "    <body>\n",
    "        <div>\n",
    "            <p id =\"First\">First paragrah.</p>\n",
    "        </div>\n",
    "        <div>\n",
    "            <p id =\"Second\"><b>Second paragraph.</b></p>\n",
    "        </div>    \n",
    "    </body>\n",
    "</html>\n",
    "\n",
    "You can see the page here.\n",
    "\n",
    "HTML uses the div tag to create a divider that splits the page into logical units. We can think of a divider as a \"box\" that contains content. For example, different dividers hold a Web page's footer, sidebar, and horizontal menu.\n",
    "\n",
    "There are two paragraphs on the page; the first is nested inside a div. Luckily, the paragraphs have IDs. This means we can access them easily, even through they're nested.\n",
    "\n",
    "Let's use the find_all method to access those paragraphs, and pass in the additional id attribute."
   ]
  },
  {
   "cell_type": "code",
   "execution_count": 5,
   "metadata": {
    "collapsed": false
   },
   "outputs": [
    {
     "name": "stdout",
     "output_type": "stream",
     "text": [
      "\n",
      "                First paragraph.\n",
      "            \n",
      "\n",
      "\n",
      "                Second paragraph.\n",
      "            \n",
      "\n"
     ]
    }
   ],
   "source": [
    "# Get the page content and set up a new parser.\n",
    "response = requests.get(\"http://dataquestio.github.io/web-scraping-pages/simple_ids.html\")\n",
    "content = response.content\n",
    "parser = BeautifulSoup(content, 'html.parser')\n",
    "\n",
    "# Pass in the ID attribute to only get the element with that specific ID.\n",
    "first_paragraph = parser.find_all(\"p\", id=\"first\")[0]\n",
    "print(first_paragraph.text)\n",
    "second_paragraph=parser.find_all(\"p\",id=\"second\")[0]\n",
    "second_paragraph_text=second_paragraph.text\n",
    "print(second_paragraph.text)"
   ]
  },
  {
   "cell_type": "markdown",
   "metadata": {},
   "source": [
    "Element Classes\n",
    "\n",
    "In HTML, elements can also have classes. Classes aren't globally unique. In other words, many different elements belong to the same class, usually because they share a common purpose or characteristic.\n",
    "For example, you may want to create three dividers to display three of your photographs. You can create a common look and feel for these dividers, such as a border and caption style.\n",
    "This is where classes come into play. You could create a class called \"gallery,\" define a style for it once using CSS (which we'll talk about soon), and then apply that class to all of the dividers you'll use to display photos. One element can even have multiple classes.\n",
    "<html>\n",
    "    <head>\n",
    "        <title>A simple example page</title>\n",
    "    </head>\n",
    "    <body>\n",
    "        <div>\n",
    "            <p class =\"Inner-text\">First inner paragrah.</p>\n",
    "            <p class= \"Inner-text\">Second inner paragraph.</p>\n",
    "        </div>\n",
    "        <div>\n",
    "            <p class =\"Outer-text\"><b>First Outer paragraph.</b></p>\n",
    "            <p class=\"Outer-text\"><b>Second Outer paragraph.</b></p>\n",
    "        </div>    \n",
    "    </body>\n",
    "</html>\n",
    "Take a look at this page to see how we've used classes to style paragraphs.\n",
    "\n",
    "We can use find_all to select elements by class. We'll just need to pass in the class_ parameter."
   ]
  },
  {
   "cell_type": "code",
   "execution_count": 6,
   "metadata": {
    "collapsed": false
   },
   "outputs": [
    {
     "name": "stdout",
     "output_type": "stream",
     "text": [
      "\n",
      "                First paragraph.\n",
      "            \n",
      "\n",
      "                Second paragraph.\n",
      "            \n",
      "\n",
      "\n",
      "                First outer paragraph.\n",
      "            \n",
      "\n"
     ]
    }
   ],
   "source": [
    "# Get the website that contains classes.\n",
    "response = requests.get(\"http://dataquestio.github.io/web-scraping-pages/simple_classes.html\")\n",
    "content = response.content\n",
    "parser = BeautifulSoup(content, 'html.parser')\n",
    "\n",
    "# Get the first inner paragraph.\n",
    "# Find all the paragraph tags with the class inner-text.\n",
    "# Then, take the first element in that list.\n",
    "first_inner_paragraph = parser.find_all(\"p\", class_=\"inner-text\")[0]\n",
    "print(first_inner_paragraph.text)\n",
    "second_inner_paragraph=parser.find_all(\"p\",class_=\"inner-text\")[1]\n",
    "second_inner_paragraph_text=second_inner_paragraph.text\n",
    "print(second_inner_paragraph.text)\n",
    "first_outer_paragraph=parser.find_all(\"p\",class_=\"outer-text\")[0]\n",
    "first_outer_paragraph_text=first_outer_paragraph.text\n",
    "print(first_outer_paragraph.text)"
   ]
  },
  {
   "cell_type": "markdown",
   "metadata": {},
   "source": [
    "Using CSS Selectors\n",
    "\n",
    "We can use BeautifulSoup's .select method to work with CSS selectors. Here's the HTML we'll be working with on this screen:\n",
    "\n",
    "<html>\n",
    "    <head>\n",
    "        <title>A simple example page</title>\n",
    "    </head>\n",
    "    <body>\n",
    "        <div>\n",
    "            <p class =\"Inner-text first_item\" id=\"first\">First inner paragrah.</p>\n",
    "            <p class= \"Inner-text\">Second inner paragraph.</p>\n",
    "        </div>\n",
    "        <div>\n",
    "            <p class =\"Outer-text first_item\" id=\"second\"><b>First Outer paragraph.</b></p>\n",
    "            <p class=\"Outer-text\"><b>Second Outer paragraph.</b></p>\n",
    "        </div>    \n",
    "    </body>\n",
    "</html>\n",
    "\n",
    "You may have noticed that the same element can have both an ID and a class. We can also assign multiple classes to a single element; we just separate the classes with a space."
   ]
  },
  {
   "cell_type": "code",
   "execution_count": 7,
   "metadata": {
    "collapsed": false
   },
   "outputs": [
    {
     "name": "stdout",
     "output_type": "stream",
     "text": [
      "\n",
      "                First paragraph.\n",
      "            \n",
      "\n",
      "\n",
      "                First outer paragraph.\n",
      "            \n",
      "\n",
      "\n",
      "\n",
      "                First outer paragraph.\n",
      "            \n",
      "\n"
     ]
    }
   ],
   "source": [
    "# Get the website that contains classes and IDs.\n",
    "response = requests.get(\"http://dataquestio.github.io/web-scraping-pages/ids_and_classes.html\")\n",
    "content = response.content\n",
    "parser = BeautifulSoup(content, 'html.parser')\n",
    "\n",
    "# Select all of the elements that have the first-item class.\n",
    "#for class we have to use . for searching\n",
    "first_items = parser.select(\".first-item\")\n",
    "# Print the text of the first paragraph (the first element with the first-item class).\n",
    "print(first_items[0].text)\n",
    "#Select all of the elements that have the class outer-text.\n",
    "outer_first_items=parser.select(\".outer-text\")\n",
    "first_outer_text=outer_first_items[0].text\n",
    "print(first_outer_text)\n",
    "#for id we have to use # for searching\n",
    "#Select all of the elements that have the ID second.\n",
    "second_items=parser.select(\"#second\")\n",
    "second_text=second_items[0].text\n",
    "print(second_text)"
   ]
  },
  {
   "cell_type": "markdown",
   "metadata": {},
   "source": [
    "Nesting CSS Selectors\n",
    "\n",
    "We can nest CSS selectors similar to the way HTML nests tags. For example, we could use selectors to find all of the paragraphs inside the body tag. Nesting is a very powerful technique that enables us to use CSS to do complex Web scraping tasks\n",
    "This selector will target any paragraph inside a div tag:\n",
    "\n",
    "div p\n",
    "\n",
    "This selector will target any item inside a div tag that has the class first-item:\n",
    "\n",
    "div .first-item\n",
    "\n",
    "This one is even more specific. It selects any item that's inside a div tag inside a body tag, but only if it also has the ID first:\n",
    "\n",
    "body div #first\n",
    "\n",
    "This selector zeroes in on any items with the ID first that are inside any items with the class first-item:\n",
    "\n",
    ".first-item #first\n",
    "\n",
    "As you can see, we can nest CSS selectors in infinite ways. This allows us to extract data from websites with complex layouts. You can test selectors by using the .select method as you write them. Because it's easy to write a selector that doesn't work the way you expect, we highly recommend doing this."
   ]
  },
  {
   "cell_type": "markdown",
   "metadata": {},
   "source": [
    "Now that we know about nested CSS selectors, let's try them out. We can use them with the same .select method we used for our CSS selectors.\n",
    "\n",
    "We'll be practicing on this HTML:\n",
    "\n",
    "<html><head lang=\"en\">\n",
    "        <meta charset=\"UTF-8\">\n",
    "        <title>2014 Superbowl Team Stats</title>\n",
    "    </head>\n",
    "    <body>\n",
    "\n",
    "        <table class=\"stats_table nav_table\" id=\"team_stats\">\n",
    "            <tbody>\n",
    "                <tr id=\"teams\">\n",
    "                    <th></th>\n",
    "                    <th>SEA</th>\n",
    "                    <th>NWE</th>\n",
    "                </tr>\n",
    "                <tr id=\"first-downs\">\n",
    "                    <td>First downs</td>\n",
    "                    <td>20</td>\n",
    "                    <td>25</td>\n",
    "                </tr>\n",
    "                <tr id=\"total-yards\">\n",
    "                    <td>Total yards</td>\n",
    "                    <td>396</td>\n",
    "                    <td>377</td>\n",
    "                </tr>\n",
    "                <tr id=\"turnovers\">\n",
    "                    <td>Turnovers</td>\n",
    "                    <td>1</td>\n",
    "                    <td>2</td>\n",
    "                </tr>\n",
    "                <tr id=\"penalties\">\n",
    "                    <td>Penalties-yards</td>\n",
    "                    <td>7-70</td>\n",
    "                    <td>5-36</td>\n",
    "                </tr>\n",
    "                <tr id=\"total-plays\">\n",
    "                    <td>Total Plays</td>\n",
    "                    <td>53</td>\n",
    "                    <td>72</td>\n",
    "                </tr>\n",
    "                <tr id=\"time-of-possession\">\n",
    "                    <td>Time of Possession</td>\n",
    "                    <td>26:14</td>\n",
    "                    <td>33:46</td>\n",
    "                </tr>\n",
    "            </tbody>\n",
    "        </table>\n",
    "\n",
    "    \n",
    "</body></html>\n",
    "\n",
    " \t                SEA \tNWE\n",
    "First downs \t    20 \t    25\n",
    "Total yards \t    396 \t377\n",
    "Turnovers \t        1 \t     2\n",
    "Penalties-yards     7-70 \t5-36\n",
    "Total Plays \t    53   \t72\n",
    "Time of Possession \t26:14 \t33:46"
   ]
  },
  {
   "cell_type": "code",
   "execution_count": 8,
   "metadata": {
    "collapsed": false
   },
   "outputs": [
    {
     "name": "stdout",
     "output_type": "stream",
     "text": [
      "1\n",
      "72\n",
      "396\n"
     ]
    }
   ],
   "source": [
    "# Get the Superbowl box score data.\n",
    "response = requests.get(\"http://dataquestio.github.io/web-scraping-pages/2014_super_bowl.html\")\n",
    "content = response.content\n",
    "parser = BeautifulSoup(content, 'html.parser')\n",
    "\n",
    "# Find the number of turnovers the Seahawks committed.\n",
    "turnovers = parser.select(\"#turnovers\")[0]\n",
    "seahawks_turnovers = turnovers.select(\"td\")[1]\n",
    "seahawks_turnovers_count = seahawks_turnovers.text\n",
    "print(seahawks_turnovers_count)\n",
    "#Find the Total Plays for the New England Patriots\n",
    "totalplays=parser.select(\"#total-plays\")[0]\n",
    "nwe_plays=totalplays.select(\"td\")[2]\n",
    "patriots_total_plays_count=nwe_plays.text\n",
    "print(patriots_total_plays_count)\n",
    "#Find the Total Yards for the Seahawks\n",
    "totalyards=parser.select(\"#total-yards\")[0]\n",
    "swe_yards=totalyards.select(\"td\")[1]\n",
    "seahawks_total_yards_count=swe_yards.text\n",
    "print(seahawks_total_yards_count)"
   ]
  }
 ],
 "metadata": {
  "anaconda-cloud": {},
  "kernelspec": {
   "display_name": "Python [default]",
   "language": "python",
   "name": "python2"
  },
  "language_info": {
   "codemirror_mode": {
    "name": "ipython",
    "version": 2
   },
   "file_extension": ".py",
   "mimetype": "text/x-python",
   "name": "python",
   "nbconvert_exporter": "python",
   "pygments_lexer": "ipython2",
   "version": "2.7.12"
  }
 },
 "nbformat": 4,
 "nbformat_minor": 1
}
